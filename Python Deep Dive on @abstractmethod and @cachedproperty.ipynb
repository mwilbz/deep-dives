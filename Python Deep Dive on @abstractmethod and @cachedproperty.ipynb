{
 "cells": [
  {
   "cell_type": "markdown",
   "metadata": {},
   "source": [
    "# Python Deep-Dive: @abstractmethod + @cachedproperty Mis-interactions"
   ]
  },
  {
   "cell_type": "code",
   "execution_count": 1,
   "metadata": {},
   "outputs": [
    {
     "name": "stdout",
     "output_type": "stream",
     "text": [
      "3.5.5 (default, Apr  9 2018, 14:05:42) \n",
      "[GCC 4.2.1 Compatible Apple LLVM 9.1.0 (clang-902.0.39.1)]\n"
     ]
    }
   ],
   "source": [
    "import sys\n",
    "\n",
    "print(sys.version)"
   ]
  },
  {
   "cell_type": "markdown",
   "metadata": {},
   "source": [
    "1. [Overview](#Overview)\n",
    "2. [Intro to @abstractmethod](#Intro-to-@abstractmethod)\n",
    "3. [Intro to @cachedproperty](#Intro-to-@cachedproperty)\n",
    "4. [Example of using both: Providing a process time](#Example-of-using-both:-Providing-a-process_time)\n",
    "5. [The Problem](#The-Problem)\n",
    "5. [Going deeper: How @abstractmethod works](#Going-deeper:-How-@abstractmethod-works)\n",
    "6. [Looking closer at @cachedproperty](#Looking-closer-at-@cachedproperty)\n",
    "7. [The Fix!](#The-Fix!)"
   ]
  },
  {
   "cell_type": "markdown",
   "metadata": {},
   "source": [
    "## Overview\n",
    "\n",
    "Recently I ran into an issue where two of my favorite Python decorators, `@abstractmethod` and `@cachedproperty`, weren't playing well together. To fix the problem, I had to learn more about how Python decorators work, and how Python stores functions and function attributes at a low level. Enjoy!"
   ]
  },
  {
   "cell_type": "markdown",
   "metadata": {},
   "source": [
    "## Intro to @abstractmethod\n",
    "The `@abstractmethod` decorator from Python 3's built-in `abc` module is a nice way to enforce proper implementation of an interface:"
   ]
  },
  {
   "cell_type": "code",
   "execution_count": 2,
   "metadata": {},
   "outputs": [],
   "source": [
    "from abc import abstractmethod, ABC\n",
    "\n",
    "\n",
    "class AbstractPouncer(ABC):\n",
    "    \n",
    "    @abstractmethod\n",
    "    def pounce(self):\n",
    "        pass\n",
    "    \n",
    "    \n",
    "class Fox(AbstractPouncer):\n",
    "    \n",
    "    def pounce(self):\n",
    "        self.crouch()\n",
    "        self.leap()\n",
    "        self.attack()\n",
    "    \n",
    "    def crouch(self):\n",
    "        print('Crouch crouch crouch...')\n",
    "        \n",
    "    def leap(self):\n",
    "        print('Wheeee!')\n",
    "        \n",
    "    def attack(self):\n",
    "        print('I GOTCHU 🦊')\n"
   ]
  },
  {
   "cell_type": "code",
   "execution_count": 3,
   "metadata": {},
   "outputs": [
    {
     "ename": "TypeError",
     "evalue": "Can't instantiate abstract class AbstractPouncer with abstract methods pounce",
     "output_type": "error",
     "traceback": [
      "\u001b[0;31m---------------------------------------------------------------------------\u001b[0m",
      "\u001b[0;31mTypeError\u001b[0m                                 Traceback (most recent call last)",
      "\u001b[0;32m<ipython-input-3-c559685055b9>\u001b[0m in \u001b[0;36m<module>\u001b[0;34m()\u001b[0m\n\u001b[0;32m----> 1\u001b[0;31m \u001b[0mAbstractPouncer\u001b[0m\u001b[0;34m(\u001b[0m\u001b[0;34m)\u001b[0m\u001b[0;34m\u001b[0m\u001b[0m\n\u001b[0m",
      "\u001b[0;31mTypeError\u001b[0m: Can't instantiate abstract class AbstractPouncer with abstract methods pounce"
     ]
    }
   ],
   "source": [
    "AbstractPouncer()"
   ]
  },
  {
   "cell_type": "code",
   "execution_count": 4,
   "metadata": {},
   "outputs": [
    {
     "name": "stdout",
     "output_type": "stream",
     "text": [
      "Crouch crouch crouch...\n",
      "Wheeee!\n",
      "I GOTCHU 🦊\n"
     ]
    }
   ],
   "source": [
    "fox = Fox()\n",
    "fox.pounce()"
   ]
  },
  {
   "cell_type": "markdown",
   "metadata": {},
   "source": [
    "## Intro to @cachedproperty\n",
    "\n",
    "The @cachedproperty decorator is a less common decorator that isn't part of Python 3's builtins ([until Python 3.8!](https://docs.python.org/3.8/library/functools.html#functools.cached_property)). There are a bunch of implementations out there apparently (Django, Pyramid, astroid, boltons...) but for our purposes we'll use the one from boltons, which I've been using for my own projects. In any case, all the ones I looked at had the issue we're about to address..."
   ]
  },
  {
   "cell_type": "code",
   "execution_count": 5,
   "metadata": {},
   "outputs": [],
   "source": [
    "class cachedproperty:\n",
    "    \"\"\"The ``cachedproperty`` is used similar to :class:`property`, except\n",
    "    that the wrapped method is only called once. This is commonly used\n",
    "    to implement lazy attributes.\n",
    "\n",
    "    After the property has been accessed, the value is stored on the\n",
    "    instance itself, using the same name as the cachedproperty. This\n",
    "    allows the cache to be cleared with :func:`delattr`, or through\n",
    "    manipulating the object's ``__dict__``.\n",
    "\n",
    "    Copied from https://github.com/mahmoud/boltons/blob/master/boltons/cacheutils.py on 9/17/18\n",
    "    \"\"\"\n",
    "\n",
    "    def __init__(self, func):\n",
    "        self.__doc__ = getattr(func, '__doc__')\n",
    "        self.func = func\n",
    "\n",
    "    def __get__(self, obj, objtype=None):\n",
    "        if obj is None:\n",
    "            return self\n",
    "        value = obj.__dict__[self.func.__name__] = self.func(obj)\n",
    "        return value\n",
    "\n",
    "    def __repr__(self):\n",
    "        cn = self.__class__.__name__\n",
    "        return '<%s func=%s>' % (cn, self.func)"
   ]
  },
  {
   "cell_type": "markdown",
   "metadata": {},
   "source": [
    "### Example of using both: Providing a process_time\n",
    "\n",
    "I write a lot of data pipelines, and it can be useful to have a process be consistent about all the times it uses (e.g. to set a creation_time field for a record). A @cachedproperty is a nice way to ensure we always get the same time back!"
   ]
  },
  {
   "cell_type": "code",
   "execution_count": 6,
   "metadata": {},
   "outputs": [],
   "source": [
    "from datetime import datetime\n",
    "from typing import Iterator\n",
    "\n",
    "class ProcessTimeProvider(ABC):\n",
    "    \"\"\"Abstract interface for providing times for data pipelines + other processes\"\"\"\n",
    "    \n",
    "    @cachedproperty\n",
    "    @abstractmethod\n",
    "    def process_time(self) -> datetime:\n",
    "        pass\n",
    "    \n",
    "    \n",
    "class LocalProcessTimeProvider(ProcessTimeProvider):\n",
    "    \n",
    "    @cachedproperty\n",
    "    def process_time(self) -> datetime:\n",
    "        return datetime.now()\n",
    "    \n",
    "    \n",
    "class UTCProcessTimeProvider(ProcessTimeProvider):\n",
    "    \n",
    "    @cachedproperty\n",
    "    def process_time(self) -> datetime:\n",
    "        return datetime.utcnow()"
   ]
  },
  {
   "cell_type": "markdown",
   "metadata": {},
   "source": [
    "For the sake of completeness, let's see a useful example of how these might work. The code below counts the # of times the 🦊 character appears in a text."
   ]
  },
  {
   "cell_type": "code",
   "execution_count": 7,
   "metadata": {},
   "outputs": [],
   "source": [
    "class FoxMention:\n",
    "    \n",
    "    def __init__(self, offset: int, creation_time: datetime):\n",
    "        self.offset = offset\n",
    "        self.creation_time = creation_time\n",
    "        \n",
    "    def __repr__(self):\n",
    "        return '<FoxMention(offset={}, creation_time={})>'.format(self.offset, self.creation_time)\n",
    "\n",
    "        \n",
    "class FoxExtractionProcess(UTCProcessTimeProvider):\n",
    "    \"\"\"Counts 🦊s!\"\"\"\n",
    "        \n",
    "    def extract_foxes(self, text) -> Iterator[FoxMention]:\n",
    "        for offset, character in enumerate(text):\n",
    "            if character == '🦊':\n",
    "                yield FoxMention(\n",
    "                    offset=offset,\n",
    "                    creation_time=self.process_time\n",
    "                )\n"
   ]
  },
  {
   "cell_type": "code",
   "execution_count": 8,
   "metadata": {},
   "outputs": [
    {
     "name": "stdout",
     "output_type": "stream",
     "text": [
      "<FoxMention(offset=16, creation_time=2018-10-13 00:57:09.169542)>\n",
      "<FoxMention(offset=38, creation_time=2018-10-13 00:57:09.169542)>\n"
     ]
    }
   ],
   "source": [
    "fox_extractor = FoxExtractionProcess()\n",
    "text = 'The quick brown 🦊 jumps over the lazy 🦊'\n",
    "for fox_mention in fox_extractor.extract_foxes(text):\n",
    "    print(fox_mention)"
   ]
  },
  {
   "cell_type": "markdown",
   "metadata": {},
   "source": [
    "This use case for @abstractmethod, combined with @cachedproperty, is great! I like to use them in combination all the time. But here's the issue:"
   ]
  },
  {
   "cell_type": "markdown",
   "metadata": {},
   "source": [
    "## The Problem"
   ]
  },
  {
   "cell_type": "code",
   "execution_count": 9,
   "metadata": {},
   "outputs": [
    {
     "data": {
      "text/plain": [
       "<__main__.ProcessTimeProvider at 0x104b5cb00>"
      ]
     },
     "execution_count": 9,
     "metadata": {},
     "output_type": "execute_result"
    }
   ],
   "source": [
    "ProcessTimeProvider()"
   ]
  },
  {
   "cell_type": "markdown",
   "metadata": {},
   "source": [
    "Wait -- isn't `ProcessTimeProvider` an abstract class that hasn't had all its methods implemented? As we learned above, this should throw a `TypeError` when we try to instantiate the abstract class. This was baffling to me at first, and I had to understand a little more about how Python works in order to solve this."
   ]
  },
  {
   "cell_type": "markdown",
   "metadata": {},
   "source": [
    "## Going deeper: How @abstractmethod works"
   ]
  },
  {
   "cell_type": "markdown",
   "metadata": {},
   "source": [
    "The current implementation of `@abstractmethod` is surprisingly simple:\n",
    "\n",
    "```\n",
    "def abstractmethod(funcobj):\n",
    "    funcobj.__isabstractmethod__ = True\n",
    "    return funcobj\n",
    "```\n",
    "It takes the function it is decorating, and sets an attribute (yes, functions can have attributes!) called `__isabstractmethod__` to `True`. All right, let's check for that."
   ]
  },
  {
   "cell_type": "code",
   "execution_count": 10,
   "metadata": {},
   "outputs": [
    {
     "name": "stdout",
     "output_type": "stream",
     "text": [
      "True\n",
      "None\n"
     ]
    }
   ],
   "source": [
    "print(getattr(AbstractPouncer.pounce, '__isabstractmethod__', None))\n",
    "print(getattr(ProcessTimeProvider.process_time, '__isabstractmethod__', None))"
   ]
  },
  {
   "cell_type": "markdown",
   "metadata": {},
   "source": [
    "We're onto something! In `AbstractPouncer.pounce`, which didn't have a @cachedproperty annotation, we see `__isabstractmethod__` is set, as expected. So what's happening in `ProcessTimeProvider.process_time`? It must be related to `@cachedproperty`. Let's look at the implementation again."
   ]
  },
  {
   "cell_type": "markdown",
   "metadata": {},
   "source": [
    "## Looking closer at @cachedproperty"
   ]
  },
  {
   "cell_type": "code",
   "execution_count": 11,
   "metadata": {},
   "outputs": [],
   "source": [
    "class cachedproperty:\n",
    "\n",
    "    def __init__(self, func):\n",
    "        self.__doc__ = getattr(func, '__doc__')\n",
    "        self.func = func\n",
    "\n",
    "    def __get__(self, obj, objtype=None):\n",
    "        if obj is None:\n",
    "            return self\n",
    "        value = obj.__dict__[self.func.__name__] = self.func(obj)\n",
    "        return value\n",
    "\n",
    "    def __repr__(self):\n",
    "        cn = self.__class__.__name__\n",
    "        return '<%s func=%s>' % (cn, self.func)"
   ]
  },
  {
   "cell_type": "markdown",
   "metadata": {},
   "source": [
    "So if `__isabstractmethod__` isn't in `ProcessTimeProvider.process_time`, what happened to it? Let's inspect the `process_time` method a little more."
   ]
  },
  {
   "cell_type": "code",
   "execution_count": 12,
   "metadata": {},
   "outputs": [
    {
     "name": "stdout",
     "output_type": "stream",
     "text": [
      "<cachedproperty func=<function ProcessTimeProvider.process_time at 0x104bd1950>>\n",
      "{'__doc__': None, 'func': <function ProcessTimeProvider.process_time at 0x104bd1950>}\n"
     ]
    }
   ],
   "source": [
    "provider = ProcessTimeProvider()\n",
    "print(type(provider).process_time) # Tricky way to access the method object without calling __get__\n",
    "print(type(provider).process_time.__dict__)"
   ]
  },
  {
   "cell_type": "markdown",
   "metadata": {},
   "source": [
    "It looks like the `cachedproperty` decorator has changed the top-level `process_time` into a `cachedproperty` object, which contains a `func` attribute that is the original `process_time` object! Is that where `__isabstractmethod__` could be hiding?"
   ]
  },
  {
   "cell_type": "code",
   "execution_count": 13,
   "metadata": {},
   "outputs": [
    {
     "name": "stdout",
     "output_type": "stream",
     "text": [
      "{'__isabstractmethod__': True}\n"
     ]
    }
   ],
   "source": [
    "print(type(provider).process_time.func.__dict__)"
   ]
  },
  {
   "cell_type": "markdown",
   "metadata": {},
   "source": [
    "Aha! So the `__isabstractmethod__` hasn't disappeared at all! It's just been wrapped by `@cachedproperty` into the `func` attribute of the method. But that's not where Python 3 expects it to be. That should be an easy fix:"
   ]
  },
  {
   "cell_type": "markdown",
   "metadata": {},
   "source": [
    "## The Fix!"
   ]
  },
  {
   "cell_type": "code",
   "execution_count": 14,
   "metadata": {},
   "outputs": [],
   "source": [
    "class cachedproperty:\n",
    "\n",
    "    def __init__(self, func):\n",
    "        self.__doc__ = getattr(func, '__doc__')\n",
    "        self.__isabstractmethod__ = func.__isabstractmethod__ # The fix!\n",
    "        self.func = func\n",
    "\n",
    "    def __get__(self, obj, objtype=None):\n",
    "        if obj is None:\n",
    "            return self\n",
    "        value = obj.__dict__[self.func.__name__] = self.func(obj)\n",
    "        return value\n",
    "\n",
    "    def __repr__(self):\n",
    "        cn = self.__class__.__name__\n",
    "        return '<%s func=%s>' % (cn, self.func)\n",
    "    \n",
    "    \n",
    "class AbstractTimeProvider(ABC):\n",
    "    \n",
    "    @cachedproperty\n",
    "    @abstractmethod\n",
    "    def time(self):\n",
    "        pass"
   ]
  },
  {
   "cell_type": "code",
   "execution_count": 15,
   "metadata": {},
   "outputs": [
    {
     "ename": "TypeError",
     "evalue": "Can't instantiate abstract class AbstractTimeProvider with abstract methods time",
     "output_type": "error",
     "traceback": [
      "\u001b[0;31m---------------------------------------------------------------------------\u001b[0m",
      "\u001b[0;31mTypeError\u001b[0m                                 Traceback (most recent call last)",
      "\u001b[0;32m<ipython-input-15-8ea28d2f4a19>\u001b[0m in \u001b[0;36m<module>\u001b[0;34m()\u001b[0m\n\u001b[0;32m----> 1\u001b[0;31m \u001b[0mAbstractTimeProvider\u001b[0m\u001b[0;34m(\u001b[0m\u001b[0;34m)\u001b[0m\u001b[0;34m\u001b[0m\u001b[0m\n\u001b[0m",
      "\u001b[0;31mTypeError\u001b[0m: Can't instantiate abstract class AbstractTimeProvider with abstract methods time"
     ]
    }
   ],
   "source": [
    "AbstractTimeProvider()"
   ]
  },
  {
   "cell_type": "markdown",
   "metadata": {},
   "source": [
    "Voilà! Now we can declare abstract cached properties with all the benefits of Python's ABC module."
   ]
  },
  {
   "cell_type": "code",
   "execution_count": null,
   "metadata": {},
   "outputs": [],
   "source": []
  }
 ],
 "metadata": {
  "kernelspec": {
   "display_name": "Python 3",
   "language": "python",
   "name": "python3"
  },
  "language_info": {
   "codemirror_mode": {
    "name": "ipython",
    "version": 3
   },
   "file_extension": ".py",
   "mimetype": "text/x-python",
   "name": "python",
   "nbconvert_exporter": "python",
   "pygments_lexer": "ipython3",
   "version": "3.5.5"
  }
 },
 "nbformat": 4,
 "nbformat_minor": 2
}
