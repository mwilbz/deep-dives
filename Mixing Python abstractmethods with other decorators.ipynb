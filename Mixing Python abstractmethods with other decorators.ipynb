{
 "cells": [
  {
   "cell_type": "markdown",
   "metadata": {},
   "source": [
    "# Mixing Python abstractmethods with other decorators"
   ]
  },
  {
   "cell_type": "code",
   "execution_count": 1,
   "metadata": {},
   "outputs": [
    {
     "name": "stdout",
     "output_type": "stream",
     "text": [
      "3.5.6 (default, Oct 29 2018, 15:18:57) \n",
      "[GCC 4.2.1 Compatible Apple LLVM 10.0.0 (clang-1000.10.44.2)]\n"
     ]
    }
   ],
   "source": [
    "import sys\n",
    "\n",
    "print(sys.version)"
   ]
  },
  {
   "cell_type": "markdown",
   "metadata": {},
   "source": [
    "1. [Overview](#Overview)\n",
    "2. [Background](#Background)\n",
    "    1. [Intro to @abstractmethod](#Intro-to-@abstractmethod)\n",
    "    2. [Intro to @cachedproperty](#Intro-to-@cachedproperty)\n",
    "    3. [Example of using both: Providing a process time](#Example-of-using-both:-Providing-a-process_time)\n",
    "3. [The Problem](#The-Problem)\n",
    "    1. [Going deeper: How @abstractmethod works](#Going-deeper:-How-@abstractmethod-works)\n",
    "    2. [Looking closer at @cachedproperty](#Looking-closer-at-@cachedproperty)\n",
    "4. [The Fix!](#The-Fix!)\n",
    "    1. [A More Generic Solution](#A-More-Generic-Solution)"
   ]
  },
  {
   "cell_type": "markdown",
   "metadata": {},
   "source": [
    "# Overview\n",
    "\n",
    "Recently I ran into an issue where two of my favorite Python decorators, `@abstractmethod` and `@cachedproperty`, weren't playing well together. This post covers that specific issue, as well as more general ways to avoid this problem when using Python's ABC module."
   ]
  },
  {
   "cell_type": "markdown",
   "metadata": {},
   "source": [
    "# Background"
   ]
  },
  {
   "cell_type": "markdown",
   "metadata": {},
   "source": [
    "## Intro to @abstractmethod\n",
    "The `@abstractmethod` decorator from Python 3's built-in `abc` module is a nice way to enforce proper implementation of an interface. It will raise a TypeError when you call `__init__` for a class that has unimplemented abstract methods."
   ]
  },
  {
   "cell_type": "code",
   "execution_count": 2,
   "metadata": {},
   "outputs": [],
   "source": [
    "from abc import abstractmethod, ABC\n",
    "\n",
    "\n",
    "class AbstractPouncer(ABC):\n",
    "    \n",
    "    @abstractmethod\n",
    "    def pounce(self):\n",
    "        pass\n",
    "    \n",
    "    \n",
    "class Fox(AbstractPouncer):\n",
    "    \n",
    "    def pounce(self):\n",
    "        self.crouch()\n",
    "        self.leap()\n",
    "        self.attack()\n",
    "    \n",
    "    def crouch(self):\n",
    "        print('Crouch crouch crouch...')\n",
    "        \n",
    "    def leap(self):\n",
    "        print('Wheeee!')\n",
    "        \n",
    "    def attack(self):\n",
    "        print('I GOTCHU 🦊')\n"
   ]
  },
  {
   "cell_type": "code",
   "execution_count": 3,
   "metadata": {},
   "outputs": [
    {
     "name": "stdout",
     "output_type": "stream",
     "text": [
      "TypeError: Can't instantiate abstract class AbstractPouncer with abstract methods pounce\n"
     ]
    }
   ],
   "source": [
    "try:\n",
    "    AbstractPouncer()\n",
    "except TypeError as e:\n",
    "    print('TypeError:', e)"
   ]
  },
  {
   "cell_type": "code",
   "execution_count": 4,
   "metadata": {},
   "outputs": [
    {
     "name": "stdout",
     "output_type": "stream",
     "text": [
      "Crouch crouch crouch...\n",
      "Wheeee!\n",
      "I GOTCHU 🦊\n"
     ]
    }
   ],
   "source": [
    "fox = Fox()\n",
    "fox.pounce()"
   ]
  },
  {
   "cell_type": "markdown",
   "metadata": {},
   "source": [
    "## Intro to @cachedproperty\n",
    "\n",
    "The @cachedproperty decorator is a less common decorator that isn't part of Python 3's builtins ([until Python 3.8!](https://docs.python.org/3.8/library/functools.html#functools.cached_property)). There are a bunch of implementations out there apparently (Django, Pyramid, astroid, boltons...) but for our purposes we'll use the one from boltons, which I've been using for my own projects. In any case, all the ones I looked at had the issue we're about to address...\n",
    "\n",
    "(Note: This issue is now fixed in boltons https://github.com/mahmoud/boltons/pull/184)"
   ]
  },
  {
   "cell_type": "code",
   "execution_count": 5,
   "metadata": {},
   "outputs": [],
   "source": [
    "class cachedproperty:\n",
    "    \"\"\"The ``cachedproperty`` is used similar to :class:`property`, except\n",
    "    that the wrapped method is only called once. This is commonly used\n",
    "    to implement lazy attributes.\n",
    "\n",
    "    After the property has been accessed, the value is stored on the\n",
    "    instance itself, using the same name as the cachedproperty. This\n",
    "    allows the cache to be cleared with :func:`delattr`, or through\n",
    "    manipulating the object's ``__dict__``.\n",
    "\n",
    "    Copied from https://github.com/mahmoud/boltons/blob/master/boltons/cacheutils.py on 9/17/18\n",
    "    \"\"\"\n",
    "\n",
    "    def __init__(self, func):\n",
    "        self.__doc__ = getattr(func, '__doc__')\n",
    "        self.func = func\n",
    "\n",
    "    def __get__(self, obj, objtype=None):\n",
    "        if obj is None:\n",
    "            return self\n",
    "        value = obj.__dict__[self.func.__name__] = self.func(obj)\n",
    "        return value\n",
    "\n",
    "    def __repr__(self):\n",
    "        cn = self.__class__.__name__\n",
    "        return '<%s func=%s>' % (cn, self.func)"
   ]
  },
  {
   "cell_type": "markdown",
   "metadata": {},
   "source": [
    "### Example of using both: Providing a process_time\n",
    "\n",
    "I write a lot of data pipelines, and it can be useful to have a process be consistent about all the times it uses (e.g. to set a creation_time field for a record). A @cachedproperty is a nice way to ensure we always get the same time back!"
   ]
  },
  {
   "cell_type": "code",
   "execution_count": 6,
   "metadata": {},
   "outputs": [],
   "source": [
    "from datetime import datetime\n",
    "from typing import Iterator\n",
    "\n",
    "class ProcessTimeProvider(ABC):\n",
    "    \"\"\"Abstract interface for providing times for data pipelines + other processes\"\"\"\n",
    "    \n",
    "    @cachedproperty\n",
    "    @abstractmethod\n",
    "    def process_time(self) -> datetime:\n",
    "        pass\n",
    "    \n",
    "    \n",
    "class LocalProcessTimeProvider(ProcessTimeProvider):\n",
    "    \n",
    "    @cachedproperty\n",
    "    def process_time(self) -> datetime:\n",
    "        return datetime.now()\n",
    "    \n",
    "    \n",
    "class UTCProcessTimeProvider(ProcessTimeProvider):\n",
    "    \n",
    "    @cachedproperty\n",
    "    def process_time(self) -> datetime:\n",
    "        return datetime.utcnow()"
   ]
  },
  {
   "cell_type": "markdown",
   "metadata": {},
   "source": [
    "For the sake of completeness, let's see a useful example of how these might work. The code below counts the # of times the 🦊 character appears in a text."
   ]
  },
  {
   "cell_type": "code",
   "execution_count": 7,
   "metadata": {},
   "outputs": [],
   "source": [
    "class FoxMention:\n",
    "    \n",
    "    def __init__(self, offset: int, creation_time: datetime):\n",
    "        self.offset = offset\n",
    "        self.creation_time = creation_time\n",
    "        \n",
    "    def __repr__(self):\n",
    "        return '<FoxMention(offset={}, creation_time={})>'.format(self.offset, self.creation_time)\n",
    "\n",
    "        \n",
    "class FoxExtractionProcess(UTCProcessTimeProvider):\n",
    "    \"\"\"Counts 🦊s!\"\"\"\n",
    "        \n",
    "    def extract_foxes(self, text) -> Iterator[FoxMention]:\n",
    "        for offset, character in enumerate(text):\n",
    "            if character == '🦊':\n",
    "                yield FoxMention(\n",
    "                    offset=offset,\n",
    "                    creation_time=self.process_time\n",
    "                )\n"
   ]
  },
  {
   "cell_type": "code",
   "execution_count": 8,
   "metadata": {},
   "outputs": [
    {
     "name": "stdout",
     "output_type": "stream",
     "text": [
      "<FoxMention(offset=16, creation_time=2019-01-31 00:22:49.722517)>\n",
      "<FoxMention(offset=38, creation_time=2019-01-31 00:22:49.722517)>\n"
     ]
    }
   ],
   "source": [
    "fox_extractor = FoxExtractionProcess()\n",
    "text = 'The quick brown 🦊 jumps over the lazy 🦊'\n",
    "for fox_mention in fox_extractor.extract_foxes(text):\n",
    "    print(fox_mention)"
   ]
  },
  {
   "cell_type": "markdown",
   "metadata": {},
   "source": [
    "This use case for @abstractmethod, combined with @cachedproperty, is great! I like to use them in combination all the time. But here's the issue:"
   ]
  },
  {
   "cell_type": "markdown",
   "metadata": {},
   "source": [
    "# The Problem"
   ]
  },
  {
   "cell_type": "code",
   "execution_count": 9,
   "metadata": {},
   "outputs": [
    {
     "data": {
      "text/plain": [
       "<__main__.ProcessTimeProvider at 0x10fc9f4a8>"
      ]
     },
     "execution_count": 9,
     "metadata": {},
     "output_type": "execute_result"
    }
   ],
   "source": [
    "ProcessTimeProvider()"
   ]
  },
  {
   "cell_type": "markdown",
   "metadata": {},
   "source": [
    "Wait -- isn't `ProcessTimeProvider` an abstract class that hasn't had all its methods implemented? As we learned above, this should throw a `TypeError` when we try to instantiate the abstract class. This was baffling to me at first, and I had to understand a little more about how Python decorators and abstract methods are implementation to fix it."
   ]
  },
  {
   "cell_type": "markdown",
   "metadata": {},
   "source": [
    "## Going deeper: How @abstractmethod works"
   ]
  },
  {
   "cell_type": "markdown",
   "metadata": {},
   "source": [
    "The current implementation of `@abstractmethod` is surprisingly simple:\n",
    "\n",
    "```\n",
    "def abstractmethod(funcobj):\n",
    "    funcobj.__isabstractmethod__ = True\n",
    "    return funcobj\n",
    "```\n",
    "It takes the function it is decorating, and sets an attribute (yes, functions can have attributes!) called `__isabstractmethod__` to `True`. All right, let's check for that."
   ]
  },
  {
   "cell_type": "code",
   "execution_count": 10,
   "metadata": {},
   "outputs": [
    {
     "name": "stdout",
     "output_type": "stream",
     "text": [
      "True\n",
      "None\n"
     ]
    }
   ],
   "source": [
    "print(getattr(AbstractPouncer.pounce, '__isabstractmethod__', None))\n",
    "print(getattr(ProcessTimeProvider.process_time, '__isabstractmethod__', None))"
   ]
  },
  {
   "cell_type": "markdown",
   "metadata": {},
   "source": [
    "We're onto something! In `AbstractPouncer.pounce`, which didn't have a @cachedproperty annotation, we see `__isabstractmethod__` is set, as expected. So what's happening in `ProcessTimeProvider.process_time`? It must be related to `@cachedproperty`. Let's look at the implementation again."
   ]
  },
  {
   "cell_type": "markdown",
   "metadata": {},
   "source": [
    "## Looking closer at @cachedproperty"
   ]
  },
  {
   "cell_type": "code",
   "execution_count": 11,
   "metadata": {},
   "outputs": [],
   "source": [
    "class cachedproperty:\n",
    "\n",
    "    def __init__(self, func):\n",
    "        self.__doc__ = getattr(func, '__doc__')\n",
    "        self.func = func\n",
    "\n",
    "    def __get__(self, obj, objtype=None):\n",
    "        if obj is None:\n",
    "            return self\n",
    "        value = obj.__dict__[self.func.__name__] = self.func(obj)\n",
    "        return value\n",
    "\n",
    "    def __repr__(self):\n",
    "        cn = self.__class__.__name__\n",
    "        return '<%s func=%s>' % (cn, self.func)"
   ]
  },
  {
   "cell_type": "markdown",
   "metadata": {},
   "source": [
    "So if `__isabstractmethod__` isn't in `ProcessTimeProvider.process_time`, what happened to it? Let's inspect the `process_time` method a little more."
   ]
  },
  {
   "cell_type": "code",
   "execution_count": 12,
   "metadata": {},
   "outputs": [
    {
     "name": "stdout",
     "output_type": "stream",
     "text": [
      "<cachedproperty func=<function ProcessTimeProvider.process_time at 0x10fccbf28>>\n",
      "{'__doc__': None, 'func': <function ProcessTimeProvider.process_time at 0x10fccbf28>}\n"
     ]
    }
   ],
   "source": [
    "print(ProcessTimeProvider.process_time)\n",
    "print(ProcessTimeProvider.process_time.__dict__)"
   ]
  },
  {
   "cell_type": "markdown",
   "metadata": {},
   "source": [
    "It looks like the `cachedproperty` decorator has changed the top-level `process_time` into a `cachedproperty` object, which contains a `func` attribute that is the original `process_time` object! Is that where `__isabstractmethod__` could be hiding?"
   ]
  },
  {
   "cell_type": "code",
   "execution_count": 13,
   "metadata": {},
   "outputs": [
    {
     "name": "stdout",
     "output_type": "stream",
     "text": [
      "{'__isabstractmethod__': True}\n"
     ]
    }
   ],
   "source": [
    "print(ProcessTimeProvider.process_time.func.__dict__)"
   ]
  },
  {
   "cell_type": "markdown",
   "metadata": {},
   "source": [
    "Aha! So the `__isabstractmethod__` hasn't disappeared at all! It's just been wrapped by `@cachedproperty` into the `func` attribute of the method. But that's not where Python 3 expects it to be. That should be an easy fix:"
   ]
  },
  {
   "cell_type": "markdown",
   "metadata": {},
   "source": [
    "# The Fix!"
   ]
  },
  {
   "cell_type": "code",
   "execution_count": 14,
   "metadata": {},
   "outputs": [],
   "source": [
    "class cachedproperty:\n",
    "\n",
    "    def __init__(self, func):\n",
    "        self.__doc__ = getattr(func, '__doc__')\n",
    "        self.__isabstractmethod__ = func.__isabstractmethod__ # The fix!\n",
    "        self.func = func\n",
    "\n",
    "    def __get__(self, obj, objtype=None):\n",
    "        if obj is None:\n",
    "            return self\n",
    "        value = obj.__dict__[self.func.__name__] = self.func(obj)\n",
    "        return value\n",
    "\n",
    "    def __repr__(self):\n",
    "        cn = self.__class__.__name__\n",
    "        return '<%s func=%s>' % (cn, self.func)\n",
    "    \n",
    "    \n",
    "class AbstractTimeProvider(ABC):\n",
    "    \n",
    "    @cachedproperty\n",
    "    @abstractmethod\n",
    "    def time(self):\n",
    "        pass"
   ]
  },
  {
   "cell_type": "code",
   "execution_count": 15,
   "metadata": {},
   "outputs": [
    {
     "name": "stdout",
     "output_type": "stream",
     "text": [
      "TypeError: Can't instantiate abstract class AbstractTimeProvider with abstract methods time\n"
     ]
    }
   ],
   "source": [
    "try:\n",
    "    AbstractTimeProvider()\n",
    "except TypeError as e:\n",
    "    print('TypeError:', e)"
   ]
  },
  {
   "cell_type": "markdown",
   "metadata": {},
   "source": [
    "Voilà! Now we can declare abstract cached properties with all the benefits of Python's ABC module. As noted above, this is now fixed in the newest version of boltons."
   ]
  },
  {
   "cell_type": "markdown",
   "metadata": {},
   "source": [
    "## A More Generic Solution"
   ]
  },
  {
   "cell_type": "markdown",
   "metadata": {},
   "source": [
    "This problem likely affects all sorts of of decorators, not just `cachedproperty`, as well as other attributes beyond `__isabstractmethod__`. Luckily, Python's `functools` actually has a built-in solution, [`@wraps`](https://docs.python.org/3.5/library/functools.html#functools.wraps), for helping wrapper functions maintain important attributes of the original function."
   ]
  },
  {
   "cell_type": "code",
   "execution_count": 16,
   "metadata": {},
   "outputs": [],
   "source": [
    "from functools import wraps\n",
    "\n",
    "def bad_decorator(func):\n",
    "    def wrapper(num):\n",
    "        return func(num)\n",
    "    \n",
    "    return wrapper\n",
    "\n",
    "\n",
    "def good_decorator(func):\n",
    "    @wraps(func)\n",
    "    def wrapper(num):\n",
    "        return func(num)\n",
    "    \n",
    "    return wrapper\n",
    "\n",
    "\n",
    "class BadTwoAdder(ABC):\n",
    "    @bad_decorator\n",
    "    @abstractmethod\n",
    "    def bad_add_two(num):\n",
    "        \"\"\"Add two to a number\"\"\"\n",
    "        return 2 + num\n",
    "\n",
    "\n",
    "class GoodTwoAdder(ABC):\n",
    "    @good_decorator\n",
    "    @abstractmethod\n",
    "    def good_add_two(num):\n",
    "        \"\"\"Add two to a number\"\"\"\n",
    "        return 2 + num"
   ]
  },
  {
   "cell_type": "markdown",
   "metadata": {},
   "source": [
    "Both `bad_decorator` and `good_decorator` above make no real modifications to the functions they wrap, but the way they wrap is different. Only when using `@wraps` are important function attributes maintained."
   ]
  },
  {
   "cell_type": "code",
   "execution_count": 17,
   "metadata": {},
   "outputs": [
    {
     "name": "stdout",
     "output_type": "stream",
     "text": [
      "Badly wrapped name: wrapper\n",
      "Badly wrapped docstring: None\n",
      "Badly wrapped __isabstractmethod__: None\n",
      "\n",
      "Well wrapped name: good_add_two\n",
      "Well wrapped docstring: Add two to a number\n",
      "Well wrapped __isabstractmethod__: True\n"
     ]
    }
   ],
   "source": [
    "print(\"Badly wrapped name:\", BadTwoAdder.bad_add_two.__name__)\n",
    "print(\"Badly wrapped docstring:\", BadTwoAdder.bad_add_two.__doc__)\n",
    "print(\"Badly wrapped __isabstractmethod__:\", getattr(BadTwoAdder.bad_add_two, '__isabstractmethod__', None))\n",
    "\n",
    "print()\n",
    "\n",
    "print(\"Well wrapped name:\", GoodTwoAdder.good_add_two.__name__)\n",
    "print(\"Well wrapped docstring:\", GoodTwoAdder.good_add_two.__doc__)\n",
    "print(\"Well wrapped __isabstractmethod__:\", getattr(GoodTwoAdder.good_add_two, '__isabstractmethod__', None))"
   ]
  },
  {
   "cell_type": "markdown",
   "metadata": {},
   "source": [
    "The output from `GoodTwoAdder` looks much better! When writing your own function-wrapping decorators, make sure to put `@wraps` to good use!"
   ]
  },
  {
   "cell_type": "code",
   "execution_count": null,
   "metadata": {},
   "outputs": [],
   "source": []
  }
 ],
 "metadata": {
  "kernelspec": {
   "display_name": "Python 3",
   "language": "python",
   "name": "python3"
  },
  "language_info": {
   "codemirror_mode": {
    "name": "ipython",
    "version": 3
   },
   "file_extension": ".py",
   "mimetype": "text/x-python",
   "name": "python",
   "nbconvert_exporter": "python",
   "pygments_lexer": "ipython3",
   "version": "3.5.6"
  }
 },
 "nbformat": 4,
 "nbformat_minor": 2
}
